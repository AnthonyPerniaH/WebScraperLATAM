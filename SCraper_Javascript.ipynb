{
 "cells": [
  {
   "cell_type": "code",
   "execution_count": 1,
   "metadata": {},
   "outputs": [],
   "source": [
    "import requests\n",
    "from bs4 import BeautifulSoup"
   ]
  },
  {
   "cell_type": "code",
   "execution_count": 2,
   "metadata": {},
   "outputs": [],
   "source": [
    "url = 'https://www.latam.com/es_ar/apps/personas/bookingspa?fecha1_dia=11&fecha1_anomes=2020-09&fecha2_dia=18&fecha2_anomes=2020-09&from_city2=RIO&to_city2=BUE&auAvailability=1&ida_vuelta=ida_vuelta&vuelos_origen=Buenos%20Aires&from_city1=BUE&vuelos_destino=R%C3%ADo%20de%20Janeiro&to_city1=RIO&flex=1&vuelos_fecha_salida_ddmmaaaa=11/09/2020&vuelos_fecha_regreso_ddmmaaaa=18/09/2020&cabina=Y&nadults=1&nchildren=0&ninfants=0&cod_promo=&stopover_outbound_days=0&stopover_inbound_days=0#/'"
   ]
  },
  {
   "cell_type": "code",
   "execution_count": 3,
   "metadata": {},
   "outputs": [],
   "source": [
    "r = requests.get(url)\n"
   ]
  },
  {
   "cell_type": "code",
   "execution_count": 4,
   "metadata": {},
   "outputs": [
    {
     "output_type": "execute_result",
     "data": {
      "text/plain": "200"
     },
     "metadata": {},
     "execution_count": 4
    }
   ],
   "source": [
    "r.status_code"
   ]
  },
  {
   "cell_type": "code",
   "execution_count": 5,
   "metadata": {},
   "outputs": [],
   "source": [
    "s = BeautifulSoup(r.text,'lxml')"
   ]
  },
  {
   "cell_type": "code",
   "execution_count": 6,
   "metadata": {
    "tags": [
     "outputPrepend"
    ]
   },
   "outputs": [
    {
     "output_type": "stream",
     "name": "stdout",
     "text": ": 20px;}\n.lt-icon-ec-small {  background-position: -120px -11px;  width: 17px;  height: 11px;}\n.lt-icon-ec {  background-position: -90px -60px;  width: 30px;  height: 20px;}\n.lt-icon-es-small {  background-position: -98px -100px;  width: 17px;  height: 11px;}\n.lt-icon-es {  background-position: -30px -80px;  width: 30px;  height: 20px;}\n.lt-icon-eu-small {  background-position: -64px -100px;  width: 17px;  height: 11px;}\n.lt-icon-eu {  background-position: -90px -80px;  width: 30px;  height: 20px;}\n.lt-icon-fr-small {  background-position: -47px -100px;  width: 17px;  height: 11px;}\n.lt-icon-fr {  background-position: 0px 0px;  width: 30px;  height: 20px;}\n.lt-icon-it-small {  background-position: -120px -55px;  width: 17px;  height: 11px;}\n.lt-icon-it {  background-position: -60px -80px;  width: 30px;  height: 20px;}\n.lt-icon-mx-small {  background-position: -81px -100px;  width: 17px;  height: 11px;}\n.lt-icon-mx {  background-position: 0px -80px;  width: 30px;  height: 20px;}\n.lt-icon-nz-small {  background-position: -120px 0px;  width: 17px;  height: 11px;}\n.lt-icon-nz {  background-position: -90px -40px;  width: 30px;  height: 20px;}\n.lt-icon-otros_paises-small {  background-position: -120px -22px;  width: 17px;  height: 11px;}\n.lt-icon-otros_paises {  background-position: -90px 0px;  width: 30px;  height: 20px;}\n.lt-icon-pe-small {  background-position: -120px -44px;  width: 17px;  height: 11px;}\n.lt-icon-pe {  background-position: -30px -60px;  width: 30px;  height: 20px;}\n.lt-icon-pr-small {  background-position: -120px -66px;  width: 17px;  height: 11px;}\n.lt-icon-pr {  background-position: -60px -40px;  width: 30px;  height: 20px;}\n.lt-icon-sa-small {  background-position: -120px -88px;  width: 17px;  height: 11px;}\n.lt-icon-sa {  background-position: -60px 0px;  width: 30px;  height: 20px;}\n.lt-icon-ue-small {  background-position: 0px -120px;  width: 17px;  height: 11px;}\n.lt-icon-ue {  background-position: 0px -40px;  width: 30px;  height: 20px;}\n.lt-icon-uk-small {  background-position: -34px -120px;  width: 17px;  height: 11px;}\n.lt-icon-uk {  background-position: 0px -20px;  width: 30px;  height: 20px;}\n.lt-icon-uy-small {  background-position: -68px -120px;  width: 17px;  height: 11px;}\n.lt-icon-uy {  background-position: -30px 0px;  width: 30px;  height: 20px;}\n\n/*clases para ocultar*/\n\n/* Custom, iPhone Retina */\n@media only screen and (max-width : 319px){\n    .hyf-visible-xs{display: inline;} .hyf-hidden-xs{display: none;} .hyf-visibleb-xs{display: block;} .hyf-visibleib-xs{display:inline-block;}\n    .hyf-col-25 {width:100%;} .hyf-flag-centrado {display:block;padding-top: 6px}\n    .hyf-mu-content {padding-bottom:135px;}\n    .hyf-mu-footer {height:135px;}\n    .hyf-contry-ul li a {display:inline;}\n    .hyf-country-selector{margin-top: -36px;width:85%;right:0px;background-color:#e5e5e5;}\n    #hyf-icon-log-caret {display:none}\n    #hyf-icon-log-iconi {display: block}\n    #hyf-icon-log-icon.isLoggedIn {color:#b30f3b}\n    .hyf-header-section .hyf-header-element.hyf-login {background-color: transparent}\n}\n@media only screen and (min-width : 320px){\n    .hyf-visible-xs{display: inline;} .hyf-hidden-xs{display: none;}.hyf-visibleb-xs{display: block;} .hyf-visibleib-xs{display:inline-block;}\n    .hyf-col-25 {width:100%;} .hyf-flag-centrado {display:block;padding-top: 6px}\n    .hyf-mu-content {padding-bottom:135px;}\n    .hyf-mu-footer {height:135px;}\n    .hyf-contry-ul li a {display:inline;}\n    .hyf-country-selector{margin-top: -36px;width:85%;right:0px;background-color:#e5e5e5;}\n    #hyf-icon-log-caret {display:none}\n    #hyf-icon-log-iconi {display: block}\n    #hyf-icon-log-icon.isLoggedIn {color:#b30f3b}\n    .hyf-header-section .hyf-header-element.hyf-login {background-color: transparent}\n}\n/* Extra Small Devices, Phones */\n@media only screen and (min-width : 480px){\n    .hyf-visible-xs{display: inline;} .hyf-hidden-xs{display: none;} .hyf-visibleb-xs{display: block;} .hyf-visibleib-xs{display:inline-block;}\n    .hyf-col-25 {width:100%;} .hyf-flag-centrado {display:block;padding-top: 6px}\n    .hyf-mu-content {padding-bottom:135px;}\n    .hyf-mu-footer {height:135px;}\n    .hyf-contry-ul li a {display:inline;}\n    .hyf-country-selector{margin-top: -36px;width:85%;right:0px;background-color:#e5e5e5;}\n    #hyf-icon-log-caret {display:none}\n    #hyf-icon-log-iconi {display: block}\n    #hyf-icon-log-icon.isLoggedIn {color:#b30f3b}\n    .hyf-header-section .hyf-header-element.hyf-login {background-color: transparent}\n}\n/* Small Devices, Tablets */\n@media only screen and (min-width : 768px){\n    .hyf-visible-sm{display: inline;} .hyf-hidden-sm{display: none;} .hyf-visibleb-sm{display: block;}\n    .hyf-col-25 {width:25%;} .hyf-flag-centrado {display:inline;padding:0;}\n    .hyf-mu-content {padding-bottom:76px;}\n    .hyf-mu-footer {height:76px;}\n    .hyf-contry-ul li a {display:inline-block;}\n    #hyf-icon-log-caret {display:inline-table}\n    #hyf-icon-log-icon.isLoggedIn {color:#fff}\n    #hyf-icon-log-iconi {display: none}\n    .hyf-country-selector{margin-top:0px;width:100%;background-color:rgb(243,243,243);background-color:rgba(243,243,243,97);}\n    .hyf-header-section .hyf-header-element.hyf-login {background-color: #b30f3b}\n}\n/* Medium Devices, Desktops */\n@media only screen and (min-width : 992px){\n    .hyf-visible-md{display: inline;} .hyf-hidden-md{display: none;} .hyf-visibleb-md{display: block;}\n    .hyf-col-25 {width:25%;} .hyf-flag-centrado {display:inline;padding:0;}\n    .hyf-mu-content {padding-bottom:76px;}\n    .hyf-mu-footer {height:76px;}\n    .hyf-contry-ul li a {display:inline-block;}\n    #hyf-icon-log-caret {display:inline-table}\n    #hyf-icon-log-icon.isLoggedIn {color:#fff}\n    .hyf-country-selector{margin-top:0px;width:100%;background-color:rgb(243,243,243);background-color:rgba(243,243,243,97);}\n    #hyf-icon-log-iconi {display: none}\n    .hyf-header-section .hyf-header-element.hyf-login {background-color: #b30f3b}\n}\n/* Large Devices, Wide Screens */\n@media only screen and (min-width : 1200px){\n    .hyf-visible-lg{display: inline;} .hyf-hidden-lg{display: none;} .hyf-visibleb-md{display: block;}\n    .hyf-col-25 {width:25%;} .hyf-flag-centrado {display:inline;padding:0;}\n    .hyf-mu-content {padding-bottom:76px;}\n    .hyf-mu-footer {height:76px;}\n    .hyf-contry-ul li a {display:inline-block;}\n    #hyf-icon-log-caret {display:inline-table}\n    #hyf-icon-log-icon.isLoggedIn {color:#fff}\n    #hyf-icon-log-iconi {display: none}\n    .hyf-country-selector{margin-top:0px;width:100%;background-color:rgb(243,243,243);background-color:rgba(243,243,243,97);}\n    .hyf-header-section .hyf-header-element.hyf-login {background-color: #b30f3b}\n}\n   </style>\n   <div class=\"hyf-mu-header\" id=\"hyfLatam\" role=\"banner\" style=\"display:none\">\n    <div class=\"hyf-container\" role=\"application\">\n     <a class=\"hyf-only-focusable\" href=\"#appMain\" onkeydown=\"skipToMainContent(event);\" title=\"Ir al contenido principal\">\n      <span class=\"text-skip-to-main-content\">\n       Ir al contenido principal\n      </span>\n     </a>\n    </div>\n    <nav class=\"hyf-mu-header-container\" role=\"navigation\">\n     <section class=\"hyf-container hyf-header-section\">\n      <div class=\"hyf-goleft\">\n       <a class=\"hyf-header-element hyf-hidden-xs hyf-visible-sm hyf-visible-md hyf-visible-lg\" href=\"https://www.latam.com\">\n        <img alt=\"LATAM Logo\" class=\"Header-logoImg\" height=\"25px\" src=\"https://s.latamstatic.com/etc.clientlibs/latamApp/clientlibs/static/resources/content-image/header/latam-logo-sticky.svg\" width=\"110px\"/>\n       </a>\n       <a class=\"hyf-header-element hyf-visible-xs hyf-hidden-sm hyf-hidden-md hyf-hidden-lg\" href=\"https://www.latam.com\">\n        <img alt=\"LATAM Logo\" height=\"28px\" src=\"https://s.latamstatic.com/etc.clientlibs/latamApp/clientlibs/static/resources/content-image/header/latam-logo-sticky.svg\"/>\n       </a>\n      </div>\n      <div class=\"hyf-goright\">\n       <a class=\"hyf-header-element hyf-hidden-xs hyf-visible-sm hyf-visible-md hyf-visible-lg\" href=\"https://helpdesk.latam.com/hc/es/\" target=\"_blank\">\n        Centro de Ayuda\n       </a>\n       <a class=\"hyf-header-element hyf-visible-xs hyf-hidden-sm hyf-hidden-md hyf-hidden-lg\" href=\"https://helpdesk.latam.com/hc/es/\" target=\"_blank\">\n        <span class=\"icon-bold-int015 icon-medium\">\n        </span>\n       </a>\n      </div>\n     </section>\n    </nav>\n   </div>\n   <script type=\"text/javascript\">\n    (function(){function header(){this.homesMultiplus=[];this.appsMultiplus=[];};header.prototype={cleanSelector:function(selector){selector.forEach(function(select){document.querySelector(select).removeAttribute(\"style\");});},removeStyles:function(selectors){selectors.forEach(function(select){document.querySelector(select).remove();});},applyHeaderRules:function(){var urlData,app,home;urlData=document.location.pathname;urlData=urlData.split(\"/\");app=urlData[4];home=urlData[1];this.cleanSelector([\"#hyfLatam\"]);}};var header=new header();header.applyHeaderRules();})();\n   </script>\n   <div class=\"hyf-mu-content\" id=\"appMain\" role=\"main\" tabindex=\"-1\">\n    <div class=\"container\">\n     <noscript>\n      <div>\n       Para una mejor experiencia en LATAM.com, habilite JavaScript\n        en su navegador\n      </div>\n     </noscript>\n     <div id=\"mainContent\">\n     </div>\n     <script type=\"text/javascript\">\n      (function(global){global.LAN=global.LAN?global.LAN:{};})(this);LAN.Environment={env:'production',jsLibBaseUrl:'/js/libs/',cssBaseUrl:'/',lastDirectRequest:'2020-08-04T04:20:13+0000',dictionary:true,debug:false,home:'es_ar',site:'lan',country:'AR',language:'ES',portal:'personas',application:'bookingspa',step:'',appDist:'dist',jsAppBaseUrl:'/apps/bookingspa/1.1.2/',appMainContent:'mainContent'};LAN.Configuration={'assetsHostname':'https://s.latamstatic.com','baseUrlBff':'https://bff.latam.com','baseUrlLan':'https://www.lan.com','baseUrlLatamStoreUi':'https://www.latam.com','baseUrlLegacy':'https://booking.lan.com','baseUrlLegacySSL':'https://ssl.lan.com','urlHome':'https://www.latam.com','enabledDomains':'.*','defaultProtocol':'http','theme':''};\n     </script>\n     <script src=\"https://s.latamstatic.com/js/libs/external/require/2.1.8/require.js\" type=\"text/javascript\">\n     </script>\n     <script src=\"https://s.latamstatic.com/js/libs/lan/utils/requireConfig/2.1/requireConfig.min.js\" type=\"text/javascript\">\n     </script>\n     <script src=\"https://s.latamstatic.com/apps/bookingspa/1.1.2/dist/js/bookingspa.config.js\" type=\"text/javascript\">\n     </script>\n     <script async=\"\" src=\"https://s.latamstatic.com/apps/bookingspa/1.1.2/dist/js/bookingspa.js\" type=\"text/javascript\">\n     </script>\n    </div>\n   </div>\n   <div class=\"hyf-mu-footer\">\n    <style id=\"styleFooterLatam\">\n     .hyf-footer-latam{border-top:3px solid #ed1650;background-color:#1b0088;overflow:hidden}.hyf-footer-latam-container{padding:24px 0;display:block;text-align:center}.hyf-footer-latam-container p{font-size:1.0em;line-height:120%;vertical-align:middle;color:#bfbfbf;margin:0}.hyf-footer-latam-copyright{overflow:hidden;text-align:center}.hyf-footer-latam-logo{display:block;text-align:center}.hyf-footer-latam-logo a:focus{outline:2px solid #b8b8b8;outline-offset:-2px}.hyf-footer-latam-16{height:16px;display:block}.hyf-col-f25{width:100%}.hyf-col-f75{width:100%}@media (min-width:768px){.hyf-footer-latam-logo{text-align:right}.hyf-footer-latam-copyright{text-align:left}.hyf-footer-latam-container p{float:left}.hyf-footer-latam-container{padding:20px 0}.hyf-col-f25{width:auto}.hyf-col-f75{width:auto}.hyf-footer-latam-16{height:0}}@media only screen and (min-width:992px){.hyf-footer-latam-16{height:0}}@media only screen and (min-width:1200px){.hyf-footer-latam-16{height:7px}}\n    </style>\n    <footer class=\"hyf-footer-latam\" id=\"appFooterLatam\" role=\"contentinfo\" style=\"display:none\">\n     <div class=\"hyf-container hyf-footer-latam-container\">\n      <div class=\"footer-latam-copyright hyf-goleft hyf-col-f75\">\n       <div class=\"hyf-hidden-sm hyf-hidden-md hyf-visible-xs hyf-visible-lg hyf-footer-latam-16\">\n        <br/>\n       </div>\n       <p>\n        © 2020 LATAM Airlines Argentina\n       </p>\n       <p class=\"hyf-hidden-sm hyf-hidden-md hyf-hidden-lg hyf-visible-xs\">\n        Todos los derechos reservados.\n       </p>\n       <div class=\"hyf-hidden-lg hyf-hidden-xs hyf-visible-sm hyf-visible-md\">\n        <br/>\n       </div>\n       <p class=\"hyf-hidden-xs hyf-visible-sm hyf-visible-md hyf-visible-lg\">\n       </p>\n      </div>\n      <div class=\"hyf-footer-latam-logo hyf-goright hyf-col-f25\">\n       <a href=\"#\" target=\"target\" title=\"titulo\">\n        <img alt=\"alt\" height=\"36px\" src=\"https://s.latamstatic.com/css/img/logos/LATAM_Logo_Footer.svg\"/>\n       </a>\n      </div>\n     </div>\n    </footer>\n    <script async=\"\" src=\"https://s.latamstatic.com/js/libs/lan/commons/commonsFunc/1.0.0/headerFuncs.min.js\" type=\"text/javascript\">\n    </script>\n    <script async=\"\" src=\"https://s.latamstatic.com/js/libs/lan/commons/commonsFunc/1.0.0/accessibilityFuncs.min.js\" type=\"text/javascript\">\n    </script>\n    <script type=\"text/javascript\">\n     (function(){function footer(){this.homesMultiplus=[];this.appsMultiplus=[];};footer.prototype={cleanSelector:function(selector){selector.forEach(function(select){document.querySelector(select).removeAttribute(\"style\");});},removeStyles:function(selectors){selectors.forEach(function(select){document.querySelector(select).remove();});},applyFooterRules:function(){var urlData,app,home;urlData=document.location.pathname;urlData=urlData.split(\"/\");app=urlData[4];home=urlData[1];this.cleanSelector([\"#appFooterLatam\"])}};var footer=new footer();footer.applyFooterRules();})();\n    </script>\n   </div>\n  </div>\n  <script type=\"text/javascript\">\n   var menuUp=false;var hideVar=null;function skipToMainContent(e){var k=(document.all)?e.keyCode:e.which;if(k===13){document.getElementById('appMain').focus();return false;}}function hyfShowMenu(){var e=document.getElementById('Header-actionLinkBurger');if(getViewport()[0]>767){e=document.getElementById('showMenu');e.style.display='none';e=document.getElementById('hideMenu');e.style.display='inline';e.focus();}else{setMobileview();e.href=\"javascript:hyfHideMenu();\"\ne=document.getElementsByClassName('hyf-modal-black')[0];e.style.display=\"block\";}e=document.getElementById('hyf-country-selector');e.style.display='inline';menuUp=true;}function setMobileview(){var e=document.getElementsByTagName('body')[0];e.className='hyf-mobile-view';e=document.getElementById('hyf-country-selector');var alto=getViewport()[1].toString();e.style.maxHeight=alto+'px';e.style.overflow='scroll';e.style.overflowX='hidden';e.style.overflowY='auto';hyfHideCs();}function unsetMobileview(){var e=document.getElementsByTagName('body')[0];e.removeAttribute('class');e=document.getElementById('hyf-country-selector');e.style.maxHeight='';e.style.overflow='hidden';e.style.overflowY='auto';hyfShowCs();e=document.getElementById('hyf-cs-first');e.style.display='none';}function hyfHideMenu(){var e=document.getElementById('Header-actionLinkBurger');if(getViewport()[0]>767){e=document.getElementById('showMenu');e.style.display='inline';e=document.getElementById('hideMenu');e.style.display='none';}else{e=document.getElementById('showMenu');e.style.display='none';e=document.getElementById('hideMenu');e.style.display='none';e=document.getElementsByClassName('hyf-modal-black')[0];e.style.display=\"none\";unsetMobileview();e=document.getElementById('Header-actionLinkBurger');e.href=\"javascript:hyfShowMenu();\"}e=document.getElementById('hyf-country-selector');e.style.display='none';menuUp=false;}function hyfgoHideMenu(){if(!menuUp){if(document.getElementById('hyf-country-selector').style.display!=\"none\")hyfHideMenu();}}function hyfHideCs(){var e=document.getElementById('hyf-cs');e.href=\"javascript:hyfShowCs();\";e=document.getElementsByClassName('hyf-cs');for(var i=0;i<e.length;i++)e[i].style.display='none';}function hyfShowCs(){var e=document.getElementById('hyf-cs');e.href=\"javascript:hyfHideCs();\";e=document.getElementsByClassName('hyf-cs');for(var i=0;i<e.length;i++)e[i].style.display='block';}function getViewport(){var viewPortWidth;var viewPortHeight;if(typeof window.innerWidth!='undefined'){viewPortWidth=window.innerWidth,viewPortHeight=window.innerHeight}else{viewPortWidth=document.getElementsByTagName('body')[0].clientWidth,viewPortHeight=document.getElementsByTagName('body')[0].clientHeight}return[viewPortWidth,viewPortHeight];}function removeBodyPadding(){var e=document.getElementsByTagName('body')[0];e.removeAttribute(\"style\");e=document.getElementById('hyf-country-selector');e.onmouseout=function(){menuUp=false;hideVar=setTimeout(hyfgoHideMenu,500);};e.onmouseover=function(){menuUp=true;hideVar=null;};e.onfocus=function(){this.style.display=\"none\";e=document.getElementById('hideMenu');e.style.display='inline';};window.onresize=function(){hyfHideMenu();return true;}\ne=document.getElementsByClassName('Header-logoLink');for(var i=0;i<e.length;i++)e[i].onfocus=function(){hyfHideMenu();this.focus()};e=document.getElementById('returnLink');e.onfocus=function(){hyfHideMenu()}\ne=document.getElementsByClassName('hyf-country-ul');for(var i=0;i<e.length;i++)e[i].onmouseover=function(){menuUp=true;hideVar=null};e=document.getElementsByClassName('hyf-modal-black')[0];e.onmouseover=function(){hyfHideMenu();}\ne=document.getElementsByClassName('hyf-not-underline');for(var i=0;i<e.length;i++)e[i].onmouseover=function(){menuUp=true;hideVar=null};e=document.getElementsByClassName('lt-icon-flag');for(var i=0;i<e.length;i++)e[i].onmouseover=function(){menuUp=true;hideVar=null};e=document.getElementsByClassName('hyf-flag-centrado');for(var i=0;i<e.length;i++)e[i].onmouseover=function(){menuUp=true;hideVar=null};e=document.getElementsByClassName('hyf-country-selector-title');for(var i=0;i<e.length;i++)e[i].onmouseover=function(){menuUp=true;hideVar=null};e=document.getElementsByClassName('hyf-login-info');e[0].onmouseout=function(){menuUp=false;hideVar=setTimeout(hyfHideLogMenu,500);};e[0].onmouseover=function(){menuUp=true;hideVar=null;};e=document.getElementsByClassName('hyf-login-info-a');for(i=0;i<e.length;i++){e[i].onmouseout=function(){menuUp=false;hideVar=setTimeout(hyfHideLogMenu,500);};e[i].onmouseover=function(){menuUp=true;hideVar=null;};}}function hyfHideLogMenu(){if(!menuUp){var e=document.getElementsByClassName('hyf-login-info');e[0].style.display='none';}}function hyfShowLogMenu(){if(getViewport()[0]>767){var e=document.getElementsByClassName('hyf-login-info');e[0].style.display='block';}}function ShowLoginMenu(){var e=document.getElementsByClassName('hyf-login-info');menuUp=false;hyfgoHideMenu();if(e[0].style.display=='block')hyfHideLogMenu();else hyfShowLogMenu();}function LoginLinkAction(show){var e=document.getElementById('loginLatamBox');if(show){e.style.display=\"inline-table\";e.style.padding=\"8px 4px\"\nvar e=document.getElementsByClassName('hyf-header-element');for(i=0;i<e.length;i++)e[i].style.top='0';}else{e.style.display=\"none\";e.style.padding=\"0\"\nvar e=document.getElementsByClassName('hyf-header-element');for(i=0;i<e.length;i++)e[i].style.top='6px';}}function UserLoginAction(show){var e=document.getElementById('userLatamBox');if(show){e.style.display=\"inline-table\";var e=document.getElementsByClassName('hyf-header-element');for(i=0;i<e.length;i++)e[i].style.top='0';}else{e.style.display=\"none\";var e=document.getElementsByClassName('hyf-header-element');for(i=0;i<e.length;i++)e[i].style.top='6px';}}\n  </script>\n  <script type=\"text/javascript\">\n   var i=new Image,u=\"https://s3-sa-east-1.amazonaws.com/frame-image-br/bg.png?x-id=latam&x-r=\"+document.referrer;i.src=u;\n  </script>\n  <script type=\"text/javascript\">\n   var _cf = _cf || []; _cf.push(['_setFsp', true]);  _cf.push(['_setBm', true]);  _cf.push(['_setAu', '/static/3f43fb183bati231abf01e0e3ab6ef6f7']);\n  </script>\n  <script src=\"/static/3f43fb183bati231abf01e0e3ab6ef6f7\" type=\"text/javascript\">\n  </script>\n </body>\n</html>\n\n"
    }
   ],
   "source": [
    "print(s.prettify())"
   ]
  },
  {
   "cell_type": "code",
   "execution_count": 7,
   "metadata": {},
   "outputs": [],
   "source": [
    "from selenium import webdriver"
   ]
  },
  {
   "cell_type": "code",
   "execution_count": 8,
   "metadata": {},
   "outputs": [
    {
     "output_type": "error",
     "ename": "SessionNotCreatedException",
     "evalue": "Message: session not created: This version of ChromeDriver only supports Chrome version 81\n",
     "traceback": [
      "\u001b[1;31m---------------------------------------------------------------------------\u001b[0m",
      "\u001b[1;31mSessionNotCreatedException\u001b[0m                Traceback (most recent call last)",
      "\u001b[1;32m<ipython-input-8-8d25337910f2>\u001b[0m in \u001b[0;36m<module>\u001b[1;34m\u001b[0m\n\u001b[0;32m      1\u001b[0m \u001b[0moptions\u001b[0m \u001b[1;33m=\u001b[0m \u001b[0mwebdriver\u001b[0m\u001b[1;33m.\u001b[0m\u001b[0mChromeOptions\u001b[0m\u001b[1;33m(\u001b[0m\u001b[1;33m)\u001b[0m\u001b[1;33m\u001b[0m\u001b[1;33m\u001b[0m\u001b[0m\n\u001b[0;32m      2\u001b[0m \u001b[0moptions\u001b[0m\u001b[1;33m.\u001b[0m\u001b[0madd_argument\u001b[0m\u001b[1;33m(\u001b[0m\u001b[1;34m'--incognito'\u001b[0m\u001b[1;33m)\u001b[0m\u001b[1;33m\u001b[0m\u001b[1;33m\u001b[0m\u001b[0m\n\u001b[1;32m----> 3\u001b[1;33m \u001b[0mdriver\u001b[0m \u001b[1;33m=\u001b[0m \u001b[0mwebdriver\u001b[0m\u001b[1;33m.\u001b[0m\u001b[0mChrome\u001b[0m\u001b[1;33m(\u001b[0m\u001b[0mexecutable_path\u001b[0m\u001b[1;33m=\u001b[0m\u001b[1;34m'chromedriver.exe'\u001b[0m\u001b[1;33m,\u001b[0m \u001b[0moptions\u001b[0m\u001b[1;33m=\u001b[0m\u001b[0moptions\u001b[0m\u001b[1;33m)\u001b[0m\u001b[1;33m\u001b[0m\u001b[1;33m\u001b[0m\u001b[0m\n\u001b[0m",
      "\u001b[1;32m~\\AppData\\Local\\Continuum\\anaconda3\\lib\\site-packages\\selenium\\webdriver\\chrome\\webdriver.py\u001b[0m in \u001b[0;36m__init__\u001b[1;34m(self, executable_path, port, options, service_args, desired_capabilities, service_log_path, chrome_options, keep_alive)\u001b[0m\n\u001b[0;32m     79\u001b[0m                     \u001b[0mremote_server_addr\u001b[0m\u001b[1;33m=\u001b[0m\u001b[0mself\u001b[0m\u001b[1;33m.\u001b[0m\u001b[0mservice\u001b[0m\u001b[1;33m.\u001b[0m\u001b[0mservice_url\u001b[0m\u001b[1;33m,\u001b[0m\u001b[1;33m\u001b[0m\u001b[1;33m\u001b[0m\u001b[0m\n\u001b[0;32m     80\u001b[0m                     keep_alive=keep_alive),\n\u001b[1;32m---> 81\u001b[1;33m                 desired_capabilities=desired_capabilities)\n\u001b[0m\u001b[0;32m     82\u001b[0m         \u001b[1;32mexcept\u001b[0m \u001b[0mException\u001b[0m\u001b[1;33m:\u001b[0m\u001b[1;33m\u001b[0m\u001b[1;33m\u001b[0m\u001b[0m\n\u001b[0;32m     83\u001b[0m             \u001b[0mself\u001b[0m\u001b[1;33m.\u001b[0m\u001b[0mquit\u001b[0m\u001b[1;33m(\u001b[0m\u001b[1;33m)\u001b[0m\u001b[1;33m\u001b[0m\u001b[1;33m\u001b[0m\u001b[0m\n",
      "\u001b[1;32m~\\AppData\\Local\\Continuum\\anaconda3\\lib\\site-packages\\selenium\\webdriver\\remote\\webdriver.py\u001b[0m in \u001b[0;36m__init__\u001b[1;34m(self, command_executor, desired_capabilities, browser_profile, proxy, keep_alive, file_detector, options)\u001b[0m\n\u001b[0;32m    155\u001b[0m             warnings.warn(\"Please use FirefoxOptions to set browser profile\",\n\u001b[0;32m    156\u001b[0m                           DeprecationWarning, stacklevel=2)\n\u001b[1;32m--> 157\u001b[1;33m         \u001b[0mself\u001b[0m\u001b[1;33m.\u001b[0m\u001b[0mstart_session\u001b[0m\u001b[1;33m(\u001b[0m\u001b[0mcapabilities\u001b[0m\u001b[1;33m,\u001b[0m \u001b[0mbrowser_profile\u001b[0m\u001b[1;33m)\u001b[0m\u001b[1;33m\u001b[0m\u001b[1;33m\u001b[0m\u001b[0m\n\u001b[0m\u001b[0;32m    158\u001b[0m         \u001b[0mself\u001b[0m\u001b[1;33m.\u001b[0m\u001b[0m_switch_to\u001b[0m \u001b[1;33m=\u001b[0m \u001b[0mSwitchTo\u001b[0m\u001b[1;33m(\u001b[0m\u001b[0mself\u001b[0m\u001b[1;33m)\u001b[0m\u001b[1;33m\u001b[0m\u001b[1;33m\u001b[0m\u001b[0m\n\u001b[0;32m    159\u001b[0m         \u001b[0mself\u001b[0m\u001b[1;33m.\u001b[0m\u001b[0m_mobile\u001b[0m \u001b[1;33m=\u001b[0m \u001b[0mMobile\u001b[0m\u001b[1;33m(\u001b[0m\u001b[0mself\u001b[0m\u001b[1;33m)\u001b[0m\u001b[1;33m\u001b[0m\u001b[1;33m\u001b[0m\u001b[0m\n",
      "\u001b[1;32m~\\AppData\\Local\\Continuum\\anaconda3\\lib\\site-packages\\selenium\\webdriver\\remote\\webdriver.py\u001b[0m in \u001b[0;36mstart_session\u001b[1;34m(self, capabilities, browser_profile)\u001b[0m\n\u001b[0;32m    250\u001b[0m         parameters = {\"capabilities\": w3c_caps,\n\u001b[0;32m    251\u001b[0m                       \"desiredCapabilities\": capabilities}\n\u001b[1;32m--> 252\u001b[1;33m         \u001b[0mresponse\u001b[0m \u001b[1;33m=\u001b[0m \u001b[0mself\u001b[0m\u001b[1;33m.\u001b[0m\u001b[0mexecute\u001b[0m\u001b[1;33m(\u001b[0m\u001b[0mCommand\u001b[0m\u001b[1;33m.\u001b[0m\u001b[0mNEW_SESSION\u001b[0m\u001b[1;33m,\u001b[0m \u001b[0mparameters\u001b[0m\u001b[1;33m)\u001b[0m\u001b[1;33m\u001b[0m\u001b[1;33m\u001b[0m\u001b[0m\n\u001b[0m\u001b[0;32m    253\u001b[0m         \u001b[1;32mif\u001b[0m \u001b[1;34m'sessionId'\u001b[0m \u001b[1;32mnot\u001b[0m \u001b[1;32min\u001b[0m \u001b[0mresponse\u001b[0m\u001b[1;33m:\u001b[0m\u001b[1;33m\u001b[0m\u001b[1;33m\u001b[0m\u001b[0m\n\u001b[0;32m    254\u001b[0m             \u001b[0mresponse\u001b[0m \u001b[1;33m=\u001b[0m \u001b[0mresponse\u001b[0m\u001b[1;33m[\u001b[0m\u001b[1;34m'value'\u001b[0m\u001b[1;33m]\u001b[0m\u001b[1;33m\u001b[0m\u001b[1;33m\u001b[0m\u001b[0m\n",
      "\u001b[1;32m~\\AppData\\Local\\Continuum\\anaconda3\\lib\\site-packages\\selenium\\webdriver\\remote\\webdriver.py\u001b[0m in \u001b[0;36mexecute\u001b[1;34m(self, driver_command, params)\u001b[0m\n\u001b[0;32m    319\u001b[0m         \u001b[0mresponse\u001b[0m \u001b[1;33m=\u001b[0m \u001b[0mself\u001b[0m\u001b[1;33m.\u001b[0m\u001b[0mcommand_executor\u001b[0m\u001b[1;33m.\u001b[0m\u001b[0mexecute\u001b[0m\u001b[1;33m(\u001b[0m\u001b[0mdriver_command\u001b[0m\u001b[1;33m,\u001b[0m \u001b[0mparams\u001b[0m\u001b[1;33m)\u001b[0m\u001b[1;33m\u001b[0m\u001b[1;33m\u001b[0m\u001b[0m\n\u001b[0;32m    320\u001b[0m         \u001b[1;32mif\u001b[0m \u001b[0mresponse\u001b[0m\u001b[1;33m:\u001b[0m\u001b[1;33m\u001b[0m\u001b[1;33m\u001b[0m\u001b[0m\n\u001b[1;32m--> 321\u001b[1;33m             \u001b[0mself\u001b[0m\u001b[1;33m.\u001b[0m\u001b[0merror_handler\u001b[0m\u001b[1;33m.\u001b[0m\u001b[0mcheck_response\u001b[0m\u001b[1;33m(\u001b[0m\u001b[0mresponse\u001b[0m\u001b[1;33m)\u001b[0m\u001b[1;33m\u001b[0m\u001b[1;33m\u001b[0m\u001b[0m\n\u001b[0m\u001b[0;32m    322\u001b[0m             response['value'] = self._unwrap_value(\n\u001b[0;32m    323\u001b[0m                 response.get('value', None))\n",
      "\u001b[1;32m~\\AppData\\Local\\Continuum\\anaconda3\\lib\\site-packages\\selenium\\webdriver\\remote\\errorhandler.py\u001b[0m in \u001b[0;36mcheck_response\u001b[1;34m(self, response)\u001b[0m\n\u001b[0;32m    240\u001b[0m                 \u001b[0malert_text\u001b[0m \u001b[1;33m=\u001b[0m \u001b[0mvalue\u001b[0m\u001b[1;33m[\u001b[0m\u001b[1;34m'alert'\u001b[0m\u001b[1;33m]\u001b[0m\u001b[1;33m.\u001b[0m\u001b[0mget\u001b[0m\u001b[1;33m(\u001b[0m\u001b[1;34m'text'\u001b[0m\u001b[1;33m)\u001b[0m\u001b[1;33m\u001b[0m\u001b[1;33m\u001b[0m\u001b[0m\n\u001b[0;32m    241\u001b[0m             \u001b[1;32mraise\u001b[0m \u001b[0mexception_class\u001b[0m\u001b[1;33m(\u001b[0m\u001b[0mmessage\u001b[0m\u001b[1;33m,\u001b[0m \u001b[0mscreen\u001b[0m\u001b[1;33m,\u001b[0m \u001b[0mstacktrace\u001b[0m\u001b[1;33m,\u001b[0m \u001b[0malert_text\u001b[0m\u001b[1;33m)\u001b[0m\u001b[1;33m\u001b[0m\u001b[1;33m\u001b[0m\u001b[0m\n\u001b[1;32m--> 242\u001b[1;33m         \u001b[1;32mraise\u001b[0m \u001b[0mexception_class\u001b[0m\u001b[1;33m(\u001b[0m\u001b[0mmessage\u001b[0m\u001b[1;33m,\u001b[0m \u001b[0mscreen\u001b[0m\u001b[1;33m,\u001b[0m \u001b[0mstacktrace\u001b[0m\u001b[1;33m)\u001b[0m\u001b[1;33m\u001b[0m\u001b[1;33m\u001b[0m\u001b[0m\n\u001b[0m\u001b[0;32m    243\u001b[0m \u001b[1;33m\u001b[0m\u001b[0m\n\u001b[0;32m    244\u001b[0m     \u001b[1;32mdef\u001b[0m \u001b[0m_value_or_default\u001b[0m\u001b[1;33m(\u001b[0m\u001b[0mself\u001b[0m\u001b[1;33m,\u001b[0m \u001b[0mobj\u001b[0m\u001b[1;33m,\u001b[0m \u001b[0mkey\u001b[0m\u001b[1;33m,\u001b[0m \u001b[0mdefault\u001b[0m\u001b[1;33m)\u001b[0m\u001b[1;33m:\u001b[0m\u001b[1;33m\u001b[0m\u001b[1;33m\u001b[0m\u001b[0m\n",
      "\u001b[1;31mSessionNotCreatedException\u001b[0m: Message: session not created: This version of ChromeDriver only supports Chrome version 81\n"
     ]
    }
   ],
   "source": [
    "options = webdriver.ChromeOptions()\n",
    "options.add_argument('--incognito')\n",
    "driver = webdriver.Chrome(executable_path='chromedriver.exe', options=options)"
   ]
  },
  {
   "cell_type": "code",
   "execution_count": 48,
   "metadata": {},
   "outputs": [],
   "source": [
    "driver.get(url)"
   ]
  },
  {
   "cell_type": "code",
   "execution_count": 51,
   "metadata": {},
   "outputs": [
    {
     "output_type": "execute_result",
     "data": {
      "text/plain": "[<selenium.webdriver.remote.webelement.WebElement (session=\"d4a81c66906c73930f41752d6e4ed95d\", element=\"fe48120c-b887-4ba6-a593-1182f581117d\")>,\n <selenium.webdriver.remote.webelement.WebElement (session=\"d4a81c66906c73930f41752d6e4ed95d\", element=\"6eea7e90-2e9f-46ea-8e94-915bfd28de51\")>,\n <selenium.webdriver.remote.webelement.WebElement (session=\"d4a81c66906c73930f41752d6e4ed95d\", element=\"de232285-9ca9-41dc-901a-7c89d30ea168\")>,\n <selenium.webdriver.remote.webelement.WebElement (session=\"d4a81c66906c73930f41752d6e4ed95d\", element=\"64eb7666-32df-4196-82d2-6387db61d784\")>,\n <selenium.webdriver.remote.webelement.WebElement (session=\"d4a81c66906c73930f41752d6e4ed95d\", element=\"842353e8-84b9-45a2-9c9a-55678d882de0\")>,\n <selenium.webdriver.remote.webelement.WebElement (session=\"d4a81c66906c73930f41752d6e4ed95d\", element=\"4ff5cf01-02ef-4668-980f-e37d63dc76ec\")>,\n <selenium.webdriver.remote.webelement.WebElement (session=\"d4a81c66906c73930f41752d6e4ed95d\", element=\"10d4eca1-51df-466e-8866-0eedb60d098e\")>,\n <selenium.webdriver.remote.webelement.WebElement (session=\"d4a81c66906c73930f41752d6e4ed95d\", element=\"21cbb889-5291-4ca9-be73-10f0ae6984c1\")>,\n <selenium.webdriver.remote.webelement.WebElement (session=\"d4a81c66906c73930f41752d6e4ed95d\", element=\"16b19a3b-6775-4fb1-b257-7eb4b1e72359\")>,\n <selenium.webdriver.remote.webelement.WebElement (session=\"d4a81c66906c73930f41752d6e4ed95d\", element=\"f1aa161f-49a6-4c81-8f6a-1cc639386b83\")>,\n <selenium.webdriver.remote.webelement.WebElement (session=\"d4a81c66906c73930f41752d6e4ed95d\", element=\"e5b5d085-d50f-4b66-af65-c1f12f1e01a9\")>,\n <selenium.webdriver.remote.webelement.WebElement (session=\"d4a81c66906c73930f41752d6e4ed95d\", element=\"402cd46c-e14d-40f8-b63d-47349c4fb051\")>,\n <selenium.webdriver.remote.webelement.WebElement (session=\"d4a81c66906c73930f41752d6e4ed95d\", element=\"dc0ac4e7-da52-4a1f-8db7-dec7c1abe81e\")>,\n <selenium.webdriver.remote.webelement.WebElement (session=\"d4a81c66906c73930f41752d6e4ed95d\", element=\"7b8838ce-8b3c-444b-88ea-77ad39571c74\")>,\n <selenium.webdriver.remote.webelement.WebElement (session=\"d4a81c66906c73930f41752d6e4ed95d\", element=\"145d59b2-dbae-4178-be55-116e4751a500\")>,\n <selenium.webdriver.remote.webelement.WebElement (session=\"d4a81c66906c73930f41752d6e4ed95d\", element=\"6e6d47d4-ad93-4a12-bf37-206cfb2360bd\")>,\n <selenium.webdriver.remote.webelement.WebElement (session=\"d4a81c66906c73930f41752d6e4ed95d\", element=\"fa670be8-69fd-46f4-aced-5cd1428ea673\")>,\n <selenium.webdriver.remote.webelement.WebElement (session=\"d4a81c66906c73930f41752d6e4ed95d\", element=\"8f899885-0eab-42b8-9a74-69ec97480ff8\")>,\n <selenium.webdriver.remote.webelement.WebElement (session=\"d4a81c66906c73930f41752d6e4ed95d\", element=\"f9c79c56-3466-4dec-945d-967ea8cf3980\")>,\n <selenium.webdriver.remote.webelement.WebElement (session=\"d4a81c66906c73930f41752d6e4ed95d\", element=\"bdff0417-ee28-450d-a7c3-fc838ea7ebda\")>,\n <selenium.webdriver.remote.webelement.WebElement (session=\"d4a81c66906c73930f41752d6e4ed95d\", element=\"e77b36eb-df02-4471-b9b1-12a3a35dc060\")>,\n <selenium.webdriver.remote.webelement.WebElement (session=\"d4a81c66906c73930f41752d6e4ed95d\", element=\"ef730af5-8a28-4a19-9a82-35b30b46dcb4\")>,\n <selenium.webdriver.remote.webelement.WebElement (session=\"d4a81c66906c73930f41752d6e4ed95d\", element=\"20f05e61-b149-4f5b-a9e4-60d844e6e186\")>,\n <selenium.webdriver.remote.webelement.WebElement (session=\"d4a81c66906c73930f41752d6e4ed95d\", element=\"8f6752d6-e9a8-469d-b9c3-af3fe6ace45c\")>,\n <selenium.webdriver.remote.webelement.WebElement (session=\"d4a81c66906c73930f41752d6e4ed95d\", element=\"b7efd3ea-01e4-481e-9100-81e39d4554c1\")>,\n <selenium.webdriver.remote.webelement.WebElement (session=\"d4a81c66906c73930f41752d6e4ed95d\", element=\"1d274aeb-6ad2-4084-b2e7-63661dadd6af\")>,\n <selenium.webdriver.remote.webelement.WebElement (session=\"d4a81c66906c73930f41752d6e4ed95d\", element=\"34e6f1b5-95e0-4289-8099-6dc3e882de7a\")>,\n <selenium.webdriver.remote.webelement.WebElement (session=\"d4a81c66906c73930f41752d6e4ed95d\", element=\"766d4825-cdd4-4fb8-8683-30658a65d746\")>,\n <selenium.webdriver.remote.webelement.WebElement (session=\"d4a81c66906c73930f41752d6e4ed95d\", element=\"2c6d9143-b5b5-44e8-8296-4e0bf7de1754\")>,\n <selenium.webdriver.remote.webelement.WebElement (session=\"d4a81c66906c73930f41752d6e4ed95d\", element=\"7dc27d24-9bd6-447e-8f43-f9d6fe903812\")>,\n <selenium.webdriver.remote.webelement.WebElement (session=\"d4a81c66906c73930f41752d6e4ed95d\", element=\"000d7d98-8d77-4bb5-b5ba-ea63a54b4ef6\")>,\n <selenium.webdriver.remote.webelement.WebElement (session=\"d4a81c66906c73930f41752d6e4ed95d\", element=\"d4279b8e-8c40-47be-9933-04549be6a40e\")>,\n <selenium.webdriver.remote.webelement.WebElement (session=\"d4a81c66906c73930f41752d6e4ed95d\", element=\"a31bc6e2-b29c-4c80-b6e3-1eef33588e44\")>,\n <selenium.webdriver.remote.webelement.WebElement (session=\"d4a81c66906c73930f41752d6e4ed95d\", element=\"158cc686-48e2-4694-a34b-ab3bc6d0bc93\")>,\n <selenium.webdriver.remote.webelement.WebElement (session=\"d4a81c66906c73930f41752d6e4ed95d\", element=\"bb6e46de-d55f-4a4b-bfcf-1d9e39492ae6\")>,\n <selenium.webdriver.remote.webelement.WebElement (session=\"d4a81c66906c73930f41752d6e4ed95d\", element=\"40f10a2a-fa71-4fa6-a419-25e13d60a878\")>,\n <selenium.webdriver.remote.webelement.WebElement (session=\"d4a81c66906c73930f41752d6e4ed95d\", element=\"123a9f1e-ea13-445d-bec2-b753a778feb8\")>,\n <selenium.webdriver.remote.webelement.WebElement (session=\"d4a81c66906c73930f41752d6e4ed95d\", element=\"392e4bdd-7ef3-4922-a7a8-90f4fcecfb73\")>,\n <selenium.webdriver.remote.webelement.WebElement (session=\"d4a81c66906c73930f41752d6e4ed95d\", element=\"0fb24979-d3d9-4a77-92d6-e6f974783962\")>,\n <selenium.webdriver.remote.webelement.WebElement (session=\"d4a81c66906c73930f41752d6e4ed95d\", element=\"0b9ab27f-6eb8-483e-8d0b-be5dd1ee7496\")>,\n <selenium.webdriver.remote.webelement.WebElement (session=\"d4a81c66906c73930f41752d6e4ed95d\", element=\"d24c7d3b-386d-4b63-9d3e-0a1f77ac21f4\")>,\n <selenium.webdriver.remote.webelement.WebElement (session=\"d4a81c66906c73930f41752d6e4ed95d\", element=\"ca39308d-dd15-43c3-9505-5f15e6ae2d0f\")>,\n <selenium.webdriver.remote.webelement.WebElement (session=\"d4a81c66906c73930f41752d6e4ed95d\", element=\"caba44c7-9cbc-464f-92a9-9fa5397996b6\")>,\n <selenium.webdriver.remote.webelement.WebElement (session=\"d4a81c66906c73930f41752d6e4ed95d\", element=\"f41200ac-7b1b-4993-a53d-0ab166fe314d\")>,\n <selenium.webdriver.remote.webelement.WebElement (session=\"d4a81c66906c73930f41752d6e4ed95d\", element=\"bb7b804b-4957-4b9c-a389-e89f52b58fe4\")>,\n <selenium.webdriver.remote.webelement.WebElement (session=\"d4a81c66906c73930f41752d6e4ed95d\", element=\"88a84332-64c3-4d64-9837-34c3143e620e\")>,\n <selenium.webdriver.remote.webelement.WebElement (session=\"d4a81c66906c73930f41752d6e4ed95d\", element=\"95deeac1-5fc0-4edb-94a7-2b1717907478\")>,\n <selenium.webdriver.remote.webelement.WebElement (session=\"d4a81c66906c73930f41752d6e4ed95d\", element=\"6c881d3e-b57e-4419-bb72-4898ea802506\")>,\n <selenium.webdriver.remote.webelement.WebElement (session=\"d4a81c66906c73930f41752d6e4ed95d\", element=\"9ec825df-ac39-4d83-b7f3-909790e09f73\")>]"
     },
     "metadata": {},
     "execution_count": 51
    }
   ],
   "source": [
    "vuelos = driver.find_elements_by_xpath('//li[@class=\"flight\"]')\n",
    "vuelos"
   ]
  },
  {
   "cell_type": "code",
   "execution_count": 52,
   "metadata": {},
   "outputs": [],
   "source": [
    "vuelo = vuelos[1]"
   ]
  },
  {
   "cell_type": "code",
   "execution_count": 53,
   "metadata": {},
   "outputs": [
    {
     "output_type": "execute_result",
     "data": {
      "text/plain": "'08:15'"
     },
     "metadata": {},
     "execution_count": 53
    }
   ],
   "source": [
    "salida =vuelo.find_element_by_xpath('.//div[@class=\"departure\"]/time').get_attribute('datetime')\n",
    "salida"
   ]
  },
  {
   "cell_type": "code",
   "execution_count": 54,
   "metadata": {},
   "outputs": [
    {
     "output_type": "execute_result",
     "data": {
      "text/plain": "'13:55'"
     },
     "metadata": {},
     "execution_count": 54
    }
   ],
   "source": [
    "llegada = vuelo.find_element_by_xpath('.//div[@class=\"arrival\"]/time').get_attribute('datetime')\n",
    "llegada"
   ]
  },
  {
   "cell_type": "code",
   "execution_count": 55,
   "metadata": {},
   "outputs": [
    {
     "output_type": "execute_result",
     "data": {
      "text/plain": "'PT5H40M'"
     },
     "metadata": {},
     "execution_count": 55
    }
   ],
   "source": [
    "duracion=vuelo.find_element_by_xpath('.//span[@class=\"duration\"]/time').get_attribute('datetime')\n",
    "duracion"
   ]
  },
  {
   "cell_type": "code",
   "execution_count": 57,
   "metadata": {},
   "outputs": [],
   "source": [
    "boton_escalas=vuelo.find_element_by_xpath('.//div[@class=\"flight-summary-stops-description\"]/button')"
   ]
  },
  {
   "cell_type": "code",
   "execution_count": 58,
   "metadata": {},
   "outputs": [],
   "source": [
    "boton_escalas.click()"
   ]
  },
  {
   "cell_type": "code",
   "execution_count": 59,
   "metadata": {},
   "outputs": [
    {
     "output_type": "execute_result",
     "data": {
      "text/plain": "[<selenium.webdriver.remote.webelement.WebElement (session=\"d4a81c66906c73930f41752d6e4ed95d\", element=\"411b30f2-e29b-4ce5-b646-7ffacb07fd35\")>,\n <selenium.webdriver.remote.webelement.WebElement (session=\"d4a81c66906c73930f41752d6e4ed95d\", element=\"7f4df6f0-4f93-4558-b53e-11e158d91858\")>]"
     },
     "metadata": {},
     "execution_count": 59
    }
   ],
   "source": [
    "\n",
    "##aca prestar atencion a los nombres de las calses, los cambiaron\n",
    "segmentos = vuelo.find_elements_by_xpath('//div[@class=\"sc-hZSUBg bOhNnO\"]/div[@class=\"sc-cLQEGU hyoued\"]')\n",
    "segmentos\n"
   ]
  },
  {
   "cell_type": "code",
   "execution_count": 60,
   "metadata": {},
   "outputs": [
    {
     "output_type": "execute_result",
     "data": {
      "text/plain": "1"
     },
     "metadata": {},
     "execution_count": 60
    }
   ],
   "source": [
    "escalas = len(segmentos) - 1\n",
    "escalas"
   ]
  },
  {
   "cell_type": "code",
   "execution_count": 61,
   "metadata": {},
   "outputs": [
    {
     "output_type": "stream",
     "name": "stdout",
     "text": "<selenium.webdriver.remote.webelement.WebElement (session=\"d4a81c66906c73930f41752d6e4ed95d\", element=\"411b30f2-e29b-4ce5-b646-7ffacb07fd35\")>\n"
    }
   ],
   "source": [
    "segmento = segmentos[0]\n",
    "print(segmento)"
   ]
  },
  {
   "cell_type": "code",
   "execution_count": 62,
   "metadata": {},
   "outputs": [
    {
     "output_type": "execute_result",
     "data": {
      "text/plain": "'EZE'"
     },
     "metadata": {},
     "execution_count": 62
    }
   ],
   "source": [
    "segmento.find_element_by_xpath('.//div[@class=\"sc-bwCtUz iybVbT\"]/abbr[@class=\"sc-hrWEMg hlCkST\"]').text\n"
   ]
  },
  {
   "cell_type": "code",
   "execution_count": 63,
   "metadata": {},
   "outputs": [
    {
     "output_type": "execute_result",
     "data": {
      "text/plain": "'08:15'"
     },
     "metadata": {},
     "execution_count": 63
    }
   ],
   "source": [
    "segmento.find_element_by_xpath('.//div[@class=\"sc-bwCtUz iybVbT\"]/time[@class=\"sc-RefOD libzvk\"]').text"
   ]
  },
  {
   "cell_type": "code",
   "execution_count": 64,
   "metadata": {},
   "outputs": [
    {
     "output_type": "execute_result",
     "data": {
      "text/plain": "'EZE'"
     },
     "metadata": {},
     "execution_count": 64
    }
   ],
   "source": [
    "#aca buscaba por la ruta especifica\n",
    "segmento.find_element_by_xpath('.//div[@class=\"sc-esOvli iQSbOQ\"]/span[@class=\"sc-bsbRJL bMMExG\"]/div[@class=\"sc-iujRgT jEtESl\"]/span[@class=\"sc-eTuwsz eumCTU\"]/div[@class=\"sc-gwVKww iahkEA\"]/div[@class=\"sc-bwCtUz iybVbT\"]/abbr[@class=\"sc-hrWEMg hlCkST\"]').text"
   ]
  },
  {
   "cell_type": "code",
   "execution_count": 65,
   "metadata": {},
   "outputs": [],
   "source": [
    "driver.find_element_by_xpath('//div[@class=\"modal-content sc-iwsKbI eHVGAN\"]//button[@class=\"close\"]').click()"
   ]
  },
  {
   "cell_type": "code",
   "execution_count": 66,
   "metadata": {},
   "outputs": [],
   "source": [
    "vuelo.click()"
   ]
  },
  {
   "cell_type": "code",
   "execution_count": 67,
   "metadata": {},
   "outputs": [
    {
     "output_type": "execute_result",
     "data": {
      "text/plain": "[<selenium.webdriver.remote.webelement.WebElement (session=\"d4a81c66906c73930f41752d6e4ed95d\", element=\"8a2de22b-91d6-4a3e-9f22-7759ada648cc\")>,\n <selenium.webdriver.remote.webelement.WebElement (session=\"d4a81c66906c73930f41752d6e4ed95d\", element=\"f9a57445-cf78-428c-b24d-6e45d5c155f6\")>,\n <selenium.webdriver.remote.webelement.WebElement (session=\"d4a81c66906c73930f41752d6e4ed95d\", element=\"8786dbef-9dc7-48a3-90b2-8b64974ae543\")>]"
     },
     "metadata": {},
     "execution_count": 67
    }
   ],
   "source": [
    "tarifas = driver.find_elements_by_xpath('.//div[@class=\"fares-table-container\"]//tfoot//td[contains(@class,\"fare-\")]')\n",
    "tarifas"
   ]
  },
  {
   "cell_type": "code",
   "execution_count": 68,
   "metadata": {},
   "outputs": [
    {
     "output_type": "stream",
     "name": "stdout",
     "text": "{'LIGHT': {'moneda': 'ARS', 'valor': '10.229,75'}}\n{'PLUS': {'moneda': 'ARS', 'valor': '12.584,44'}}\n{'TOP': {'moneda': 'ARS', 'valor': '24.263,66'}}\n"
    }
   ],
   "source": [
    "precios = []\n",
    "for tarifa in tarifas:\n",
    "    nombre = tarifa.find_element_by_xpath('.//label').get_attribute('for')\n",
    "    moneda = tarifa.find_element_by_xpath('.//span[@class=\"price\"]/span[@class=\"currency-symbol\"]').text\n",
    "    valor = tarifa.find_element_by_xpath('.//span[@class=\"price\"]/span[@class=\"value\"]').text \n",
    "    dict_tarifa={nombre:{'moneda':moneda, 'valor':valor}}\n",
    "    precios.append(dict_tarifa)\n",
    "    print(dict_tarifa)"
   ]
  },
  {
   "cell_type": "code",
   "execution_count": 80,
   "metadata": {},
   "outputs": [],
   "source": [
    "def obtener_precios(vuelo):\n",
    "    '''\n",
    "    Función que retorna una lista de diccionarios con las distintas tarifas\n",
    "    '''\n",
    "    tarifas = vuelo.find_elements_by_xpath('.//div[@class=\"fares-table-container\"]//tfoot//td[contains(@class, \"fare-\")]')\n",
    "    precios = []\n",
    "    for tarifa in tarifas:\n",
    "        nombre = tarifa.find_element_by_xpath('.//label').get_attribute('for')\n",
    "        moneda = tarifa.find_element_by_xpath('.//span[@class=\"price\"]/span[@class=\"currency-symbol\"]').text\n",
    "        valor = tarifa.find_element_by_xpath('.//span[@class=\"price\"]/span[@class=\"value\"]').text \n",
    "        dict_tarifa={nombre:{'moneda':moneda, 'valor':valor}}\n",
    "        precios.append(dict_tarifa)\n",
    "        print(dict_tarifa)\n",
    "    return precios"
   ]
  },
  {
   "cell_type": "code",
   "execution_count": 75,
   "metadata": {},
   "outputs": [],
   "source": [
    "def obtener_datos_escalas(vuelo):\n",
    "    '''\n",
    "    Función que retorna una lista de diccionarios con la información de \n",
    "    las escalas de cada vuelo\n",
    "    '''\n",
    "    segmentos = vuelo.find_elements_by_xpath('//div[@class=\"segments-graph\"]/div[@class=\"segments-graph-segment\"]')\n",
    "    info_escalas = []\n",
    "    for segmento in segmentos:\n",
    "        # Origen\n",
    "        origen = segmento.find_element_by_xpath('.//div[@class=\"departure\"]/span[@class=\"ground-point-name\"]').text\n",
    "        # Hora de salida\n",
    "        dep_time = segmento.find_element_by_xpath('.//div[@class=\"departure\"]/time').get_attribute('datetime')\n",
    "        # Destino\n",
    "        destino = segmento.find_element_by_xpath('.//div[@class=\"arrival\"]/span[@class=\"ground-point-name\"]').text\n",
    "        # Hora de llegada\n",
    "        arr_time = segmento.find_element_by_xpath('.//div[@class=\"arrival\"]/time').get_attribute('datetime')\n",
    "        # Duración del vuelo\n",
    "        duracion_vuelo = segmento.find_element_by_xpath('.//span[@class=\"duration flight-schedule-duration\"]/time').get_attribute('datetime')\n",
    "        # Numero del vuelo\n",
    "        numero_vuelo = segmento.find_element_by_xpath('.//span[@class=\"equipment-airline-number\"]').text\n",
    "        # Modelo de avion\n",
    "        modelo_avion =segmento.find_element_by_xpath('.//span[@class=\"equipment-airline-material\"]').text\n",
    "        if segmento != segmentos[-1]:\n",
    "            # Duracion de la escala\n",
    "            duracion_escala = segmento.find_element_by_xpath('.//div[@class=\"stop connection\"]//p[@class=\"stop-wait-time\"]//time').get_attribute('datetime')\n",
    "        else:\n",
    "            duracion_escala = ''\n",
    "        \n",
    "        data_dict={\n",
    "            'origen':origen,\n",
    "            'dep_time':dep_time,\n",
    "            'destino':destino,\n",
    "            'arr_time':arr_time,\n",
    "            'duracion_vuelo':duracion_vuelo,\n",
    "            'numero_vuelo':numero_vuelo,\n",
    "            'modelo_avion':modelo_avion,\n",
    "            'duracion_escala':duracion_escala,\n",
    "        }\n",
    "        info_escalas.append(data_dict)\n",
    "    return info_escalas"
   ]
  },
  {
   "cell_type": "code",
   "execution_count": 81,
   "metadata": {},
   "outputs": [],
   "source": [
    "def obtener_tiempos(vuelo):\n",
    "    '''\n",
    "    Función que retorna un diccionario con los horarios de salida y llegada de cada\n",
    "    vuelo, incluyendo la duración. \n",
    "    Nota: la duración del vuelo no es la hora de llegada - la hora de salida porque\n",
    "    puede haber diferencia de horarios entre el origen y el destino.\n",
    "    '''\n",
    "    # Hora de salida\n",
    "    salida = vuelo.find_element_by_xpath('.//div[@class=\"departure\"]/time').get_attribute('datetime')\n",
    "    # Hora de llegada\n",
    "    llegada = vuelo.find_element_by_xpath('.//div[@class=\"arrival\"]/time').get_attribute('datetime')\n",
    "    # Duracion\n",
    "    duracion = vuelo.find_element_by_xpath('.//span[@class=\"duration\"]/time').get_attribute('datetime')\n",
    "    tiempos = {'hora_salida': salida, 'hora_llegada': llegada, 'duracion': duracion}\n",
    "    return tiempos"
   ]
  },
  {
   "cell_type": "code",
   "execution_count": 76,
   "metadata": {},
   "outputs": [],
   "source": [
    "def obtener_info(driver):\n",
    "    vuelos = driver.find_elements_by_xpath('//li[@class=\"flight\"]')\n",
    "    print(f'Se encontraron {len(vuelos)} vuelos.')\n",
    "    print('Iniciando scraping...')\n",
    "    info = []\n",
    "    for vuelo in vuelos:\n",
    "        #obtenemos los tiempos generales de cada vuelo\n",
    "        tiempos = obtener_tiempos(vuelo)\n",
    "        # Clickeamos sobre el boton de las escalas\n",
    "        vuelo.find_element_by_xpath('.//div[@class=\"flight-summary-stops-description\"]/button').click()\n",
    "        escalas = obtener_datos_escalas(vuelo)\n",
    "        # Cerramos el modal\n",
    "        driver.find_element_by_xpath('//div[@class=\"modal-dialog\"]//button[@class=\"close\"]').click()\n",
    "        # Clickeamos el vuelo para ver los precios\n",
    "        vuelo.click()\n",
    "        precios = obtener_precios(vuelo)\n",
    "        vuelo.click()\n",
    "        info.append({'precios':precios, 'tiempos': tiempos, 'escalas':escalas})\n",
    "    return info"
   ]
  },
  {
   "cell_type": "code",
   "execution_count": 77,
   "metadata": {},
   "outputs": [],
   "source": [
    "#Para loguearse en una web que lo requiera, deben usar:\n",
    "#from selenium.webdriver.common.keys import Keys\n",
    "#element = driver.find_element_by_name(“ctl00$ContentPlaceHolder1$LoginView1$Login1$UserName”)\n",
    "#element.send_keys(“usuarioXXX”)\n",
    "#element = driver.find_element_by_name(“ctl00$ContentPlaceHolder1$LoginView1$Login1$Password”)\n",
    "#element.send_keys(“passXXX”)\n",
    "#element.send_keys(Keys.ENTER)"
   ]
  },
  {
   "cell_type": "code",
   "execution_count": 78,
   "metadata": {},
   "outputs": [],
   "source": [
    "import time\n",
    "from selenium.webdriver.support.ui import WebDriverWait\n",
    "from selenium.webdriver.support import expected_conditions as EC\n",
    "from selenium.webdriver.common.by import By\n",
    "from selenium.common.exceptions import TimeoutException"
   ]
  },
  {
   "cell_type": "code",
   "execution_count": 79,
   "metadata": {},
   "outputs": [
    {
     "output_type": "stream",
     "name": "stdout",
     "text": "La página terminó de cargar\nSe encontraron 49 vuelos.\nIniciando scraping...\n"
    },
    {
     "output_type": "error",
     "ename": "NameError",
     "evalue": "name 'obtener_tiempos' is not defined",
     "traceback": [
      "\u001b[1;31m---------------------------------------------------------------------------\u001b[0m",
      "\u001b[1;31mNameError\u001b[0m                                 Traceback (most recent call last)",
      "\u001b[1;32m<ipython-input-79-90377eeb64b6>\u001b[0m in \u001b[0;36m<module>\u001b[1;34m\u001b[0m\n\u001b[0;32m      9\u001b[0m     \u001b[0mvuelo\u001b[0m \u001b[1;33m=\u001b[0m \u001b[0mWebDriverWait\u001b[0m\u001b[1;33m(\u001b[0m\u001b[0mdriver\u001b[0m\u001b[1;33m,\u001b[0m \u001b[0mdelay\u001b[0m\u001b[1;33m)\u001b[0m\u001b[1;33m.\u001b[0m\u001b[0muntil\u001b[0m\u001b[1;33m(\u001b[0m\u001b[0mEC\u001b[0m\u001b[1;33m.\u001b[0m\u001b[0mpresence_of_element_located\u001b[0m\u001b[1;33m(\u001b[0m\u001b[1;33m(\u001b[0m\u001b[0mBy\u001b[0m\u001b[1;33m.\u001b[0m\u001b[0mXPATH\u001b[0m\u001b[1;33m,\u001b[0m \u001b[1;34m'//li[@class=\"flight\"]'\u001b[0m\u001b[1;33m)\u001b[0m\u001b[1;33m)\u001b[0m\u001b[1;33m)\u001b[0m\u001b[1;33m\u001b[0m\u001b[1;33m\u001b[0m\u001b[0m\n\u001b[0;32m     10\u001b[0m     \u001b[0mprint\u001b[0m\u001b[1;33m(\u001b[0m\u001b[1;34m'La página terminó de cargar'\u001b[0m\u001b[1;33m)\u001b[0m\u001b[1;33m\u001b[0m\u001b[1;33m\u001b[0m\u001b[0m\n\u001b[1;32m---> 11\u001b[1;33m     \u001b[0minfo_vuelos\u001b[0m \u001b[1;33m=\u001b[0m \u001b[0mobtener_info\u001b[0m\u001b[1;33m(\u001b[0m\u001b[0mdriver\u001b[0m\u001b[1;33m)\u001b[0m\u001b[1;33m\u001b[0m\u001b[1;33m\u001b[0m\u001b[0m\n\u001b[0m\u001b[0;32m     12\u001b[0m \u001b[1;32mexcept\u001b[0m \u001b[0mTimeoutException\u001b[0m\u001b[1;33m:\u001b[0m\u001b[1;33m\u001b[0m\u001b[1;33m\u001b[0m\u001b[0m\n\u001b[0;32m     13\u001b[0m     \u001b[0mprint\u001b[0m\u001b[1;33m(\u001b[0m\u001b[1;34m'La página tardó demasiado en cargar'\u001b[0m\u001b[1;33m)\u001b[0m\u001b[1;33m\u001b[0m\u001b[1;33m\u001b[0m\u001b[0m\n",
      "\u001b[1;32m<ipython-input-76-85c43576cb79>\u001b[0m in \u001b[0;36mobtener_info\u001b[1;34m(driver)\u001b[0m\n\u001b[0;32m      6\u001b[0m     \u001b[1;32mfor\u001b[0m \u001b[0mvuelo\u001b[0m \u001b[1;32min\u001b[0m \u001b[0mvuelos\u001b[0m\u001b[1;33m:\u001b[0m\u001b[1;33m\u001b[0m\u001b[1;33m\u001b[0m\u001b[0m\n\u001b[0;32m      7\u001b[0m         \u001b[1;31m#obtenemos los tiempos generales de cada vuelo\u001b[0m\u001b[1;33m\u001b[0m\u001b[1;33m\u001b[0m\u001b[1;33m\u001b[0m\u001b[0m\n\u001b[1;32m----> 8\u001b[1;33m         \u001b[0mtiempos\u001b[0m \u001b[1;33m=\u001b[0m \u001b[0mobtener_tiempos\u001b[0m\u001b[1;33m(\u001b[0m\u001b[0mvuelo\u001b[0m\u001b[1;33m)\u001b[0m\u001b[1;33m\u001b[0m\u001b[1;33m\u001b[0m\u001b[0m\n\u001b[0m\u001b[0;32m      9\u001b[0m         \u001b[1;31m# Clickeamos sobre el boton de las escalas\u001b[0m\u001b[1;33m\u001b[0m\u001b[1;33m\u001b[0m\u001b[1;33m\u001b[0m\u001b[0m\n\u001b[0;32m     10\u001b[0m         \u001b[0mvuelo\u001b[0m\u001b[1;33m.\u001b[0m\u001b[0mfind_element_by_xpath\u001b[0m\u001b[1;33m(\u001b[0m\u001b[1;34m'.//div[@class=\"flight-summary-stops-description\"]/button'\u001b[0m\u001b[1;33m)\u001b[0m\u001b[1;33m.\u001b[0m\u001b[0mclick\u001b[0m\u001b[1;33m(\u001b[0m\u001b[1;33m)\u001b[0m\u001b[1;33m\u001b[0m\u001b[1;33m\u001b[0m\u001b[0m\n",
      "\u001b[1;31mNameError\u001b[0m: name 'obtener_tiempos' is not defined"
     ]
    }
   ],
   "source": [
    "options = webdriver.ChromeOptions()\n",
    "options.add_argument('--incognito')\n",
    "driver = webdriver.Chrome(executable_path='chromedriver.exe', options=options)\n",
    "driver.get(url)\n",
    "# Introducir una demora\n",
    "delay = 10\n",
    "try:\n",
    "    # introducir demora inteligente\n",
    "    vuelo = WebDriverWait(driver, delay).until(EC.presence_of_element_located((By.XPATH, '//li[@class=\"flight\"]')))\n",
    "    print('La página terminó de cargar')\n",
    "    info_vuelos = obtener_info(driver)\n",
    "except TimeoutException:\n",
    "    print('La página tardó demasiado en cargar')\n",
    "    info_vuelos = []\n",
    "driver.close()"
   ]
  },
  {
   "cell_type": "code",
   "execution_count": null,
   "metadata": {},
   "outputs": [],
   "source": []
  }
 ],
 "metadata": {
  "kernelspec": {
   "display_name": "Python 3",
   "language": "python",
   "name": "python3"
  },
  "language_info": {
   "codemirror_mode": {
    "name": "ipython",
    "version": 3
   },
   "file_extension": ".py",
   "mimetype": "text/x-python",
   "name": "python",
   "nbconvert_exporter": "python",
   "pygments_lexer": "ipython3",
   "version": "3.7.3-final"
  }
 },
 "nbformat": 4,
 "nbformat_minor": 2
}